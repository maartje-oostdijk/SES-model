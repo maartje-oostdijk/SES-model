{
 "cells": [
  {
   "cell_type": "code",
   "execution_count": 5,
   "id": "d5cd91a2",
   "metadata": {},
   "outputs": [],
   "source": [
    "from ema_workbench import RealParameter, ScalarOutcome, Constant, Model\n",
    "from dps_lake_model import lake_model\n",
    "\n",
    "model = Model(\"lakeproblem\", function=lake_model)"
   ]
  },
  {
   "cell_type": "code",
   "execution_count": 6,
   "id": "f3de747f",
   "metadata": {},
   "outputs": [],
   "source": [
    "import platypus"
   ]
  },
  {
   "cell_type": "code",
   "execution_count": 7,
   "id": "e889a64a",
   "metadata": {},
   "outputs": [],
   "source": [
    "from platypus import NSGAII, Problem, Real"
   ]
  },
  {
   "cell_type": "code",
   "execution_count": 8,
   "id": "0f24465f",
   "metadata": {},
   "outputs": [],
   "source": [
    "# specify uncertainties\n",
    "model.uncertainties = [\n",
    "    RealParameter(\"b\", 0.1, 0.45),\n",
    "    RealParameter(\"q\", 2.0, 4.5),\n",
    "    RealParameter(\"mean\", 0.01, 0.05),\n",
    "    RealParameter(\"stdev\", 0.001, 0.005),\n",
    "    RealParameter(\"delta\", 0.93, 0.99),\n",
    "]\n",
    "\n",
    "# set levers\n",
    "model.levers = [\n",
    "    RealParameter(\"c1\", -2, 2),\n",
    "    RealParameter(\"c2\", -2, 2),\n",
    "    RealParameter(\"r1\", 0, 2),\n",
    "    RealParameter(\"r2\", 0, 2),\n",
    "    RealParameter(\"w1\", 0, 1),\n",
    "]\n",
    "\n",
    "# specify outcomes\n",
    "model.outcomes = [\n",
    "    ScalarOutcome(\"max_P\", ScalarOutcome.MINIMIZE),\n",
    "    ScalarOutcome(\"utility\", ScalarOutcome.MAXIMIZE),\n",
    "    ScalarOutcome(\"inertia\", ScalarOutcome.MAXIMIZE),\n",
    "    ScalarOutcome(\"reliability\", ScalarOutcome.MAXIMIZE),\n",
    "]\n",
    "\n",
    "# override some of the defaults of the model\n",
    "model.constants = [\n",
    "    Constant(\"alpha\", 0.41),\n",
    "    Constant(\"nsamples\", 150),\n",
    "    Constant(\"myears\", 100),\n",
    "]"
   ]
  },
  {
   "cell_type": "code",
   "execution_count": 9,
   "id": "120d129c",
   "metadata": {},
   "outputs": [
    {
     "name": "stderr",
     "output_type": "stream",
     "text": [
      "[MainProcess/INFO] pool started with 16 workers\n",
      "300it [00:02, 132.85it/s]                                                      \n",
      "[MainProcess/INFO] optimization completed, found 7 solutions\n",
      "[MainProcess/INFO] terminating pool\n"
     ]
    }
   ],
   "source": [
    "from ema_workbench import MultiprocessingEvaluator, ema_logging\n",
    "\n",
    "ema_logging.log_to_stderr(ema_logging.INFO)\n",
    "\n",
    "with MultiprocessingEvaluator(model) as evaluator:\n",
    "    results = evaluator.optimize(nfe=250, searchover=\"levers\", epsilons=[0.1] * len(model.outcomes))"
   ]
  },
  {
   "cell_type": "code",
   "execution_count": 10,
   "id": "20c1c260",
   "metadata": {},
   "outputs": [
    {
     "data": {
      "text/html": [
       "<div>\n",
       "<style scoped>\n",
       "    .dataframe tbody tr th:only-of-type {\n",
       "        vertical-align: middle;\n",
       "    }\n",
       "\n",
       "    .dataframe tbody tr th {\n",
       "        vertical-align: top;\n",
       "    }\n",
       "\n",
       "    .dataframe thead th {\n",
       "        text-align: right;\n",
       "    }\n",
       "</style>\n",
       "<table border=\"1\" class=\"dataframe\">\n",
       "  <thead>\n",
       "    <tr style=\"text-align: right;\">\n",
       "      <th></th>\n",
       "      <th>c1</th>\n",
       "      <th>c2</th>\n",
       "      <th>r1</th>\n",
       "      <th>r2</th>\n",
       "      <th>w1</th>\n",
       "      <th>max_P</th>\n",
       "      <th>utility</th>\n",
       "      <th>inertia</th>\n",
       "      <th>reliability</th>\n",
       "    </tr>\n",
       "  </thead>\n",
       "  <tbody>\n",
       "    <tr>\n",
       "      <th>0</th>\n",
       "      <td>-1.507684</td>\n",
       "      <td>-1.457611</td>\n",
       "      <td>1.697035</td>\n",
       "      <td>0.662775</td>\n",
       "      <td>0.671929</td>\n",
       "      <td>2.283650</td>\n",
       "      <td>1.778130</td>\n",
       "      <td>0.990000</td>\n",
       "      <td>0.0700</td>\n",
       "    </tr>\n",
       "    <tr>\n",
       "      <th>1</th>\n",
       "      <td>0.730465</td>\n",
       "      <td>0.319840</td>\n",
       "      <td>1.374847</td>\n",
       "      <td>1.914091</td>\n",
       "      <td>0.099025</td>\n",
       "      <td>0.096169</td>\n",
       "      <td>0.242877</td>\n",
       "      <td>0.990000</td>\n",
       "      <td>1.0000</td>\n",
       "    </tr>\n",
       "    <tr>\n",
       "      <th>2</th>\n",
       "      <td>0.225298</td>\n",
       "      <td>-0.509764</td>\n",
       "      <td>1.870441</td>\n",
       "      <td>1.509830</td>\n",
       "      <td>0.684254</td>\n",
       "      <td>2.283664</td>\n",
       "      <td>1.074932</td>\n",
       "      <td>0.987400</td>\n",
       "      <td>0.3514</td>\n",
       "    </tr>\n",
       "    <tr>\n",
       "      <th>3</th>\n",
       "      <td>1.107094</td>\n",
       "      <td>-0.352764</td>\n",
       "      <td>1.656122</td>\n",
       "      <td>1.976473</td>\n",
       "      <td>0.291251</td>\n",
       "      <td>2.283834</td>\n",
       "      <td>1.641086</td>\n",
       "      <td>0.990000</td>\n",
       "      <td>0.1100</td>\n",
       "    </tr>\n",
       "    <tr>\n",
       "      <th>4</th>\n",
       "      <td>1.023320</td>\n",
       "      <td>0.781605</td>\n",
       "      <td>1.912806</td>\n",
       "      <td>1.999109</td>\n",
       "      <td>0.201840</td>\n",
       "      <td>0.273692</td>\n",
       "      <td>0.560652</td>\n",
       "      <td>0.990000</td>\n",
       "      <td>1.0000</td>\n",
       "    </tr>\n",
       "    <tr>\n",
       "      <th>5</th>\n",
       "      <td>0.178091</td>\n",
       "      <td>-1.196793</td>\n",
       "      <td>1.703366</td>\n",
       "      <td>1.653587</td>\n",
       "      <td>0.949833</td>\n",
       "      <td>2.283832</td>\n",
       "      <td>0.977267</td>\n",
       "      <td>0.984867</td>\n",
       "      <td>0.4198</td>\n",
       "    </tr>\n",
       "    <tr>\n",
       "      <th>6</th>\n",
       "      <td>0.530667</td>\n",
       "      <td>0.680498</td>\n",
       "      <td>1.697902</td>\n",
       "      <td>1.036581</td>\n",
       "      <td>0.853446</td>\n",
       "      <td>0.179411</td>\n",
       "      <td>0.498204</td>\n",
       "      <td>0.990000</td>\n",
       "      <td>1.0000</td>\n",
       "    </tr>\n",
       "  </tbody>\n",
       "</table>\n",
       "</div>"
      ],
      "text/plain": [
       "         c1        c2        r1        r2        w1     max_P   utility  \\\n",
       "0 -1.507684 -1.457611  1.697035  0.662775  0.671929  2.283650  1.778130   \n",
       "1  0.730465  0.319840  1.374847  1.914091  0.099025  0.096169  0.242877   \n",
       "2  0.225298 -0.509764  1.870441  1.509830  0.684254  2.283664  1.074932   \n",
       "3  1.107094 -0.352764  1.656122  1.976473  0.291251  2.283834  1.641086   \n",
       "4  1.023320  0.781605  1.912806  1.999109  0.201840  0.273692  0.560652   \n",
       "5  0.178091 -1.196793  1.703366  1.653587  0.949833  2.283832  0.977267   \n",
       "6  0.530667  0.680498  1.697902  1.036581  0.853446  0.179411  0.498204   \n",
       "\n",
       "    inertia  reliability  \n",
       "0  0.990000       0.0700  \n",
       "1  0.990000       1.0000  \n",
       "2  0.987400       0.3514  \n",
       "3  0.990000       0.1100  \n",
       "4  0.990000       1.0000  \n",
       "5  0.984867       0.4198  \n",
       "6  0.990000       1.0000  "
      ]
     },
     "execution_count": 10,
     "metadata": {},
     "output_type": "execute_result"
    }
   ],
   "source": [
    "results\n"
   ]
  },
  {
   "cell_type": "code",
   "execution_count": 11,
   "id": "0ff3253c",
   "metadata": {},
   "outputs": [
    {
     "name": "stderr",
     "output_type": "stream",
     "text": [
      "[MainProcess/INFO] pool started with 16 workers\n",
      "1092it [00:08, 133.21it/s]                                                     \n",
      "[MainProcess/INFO] optimization completed, found 7 solutions\n",
      "[MainProcess/INFO] terminating pool\n"
     ]
    }
   ],
   "source": [
    "# change outcomes so direction is undesirable\n",
    "minimize = ScalarOutcome.MINIMIZE\n",
    "maximize = ScalarOutcome.MAXIMIZE\n",
    "\n",
    "for outcome in model.outcomes:\n",
    "    if outcome.kind == minimize:\n",
    "        outcome.kind = maximize\n",
    "    else:\n",
    "        outcome.kind = minimize\n",
    "\n",
    "with MultiprocessingEvaluator(model) as evaluator:\n",
    "    results = evaluator.optimize(\n",
    "        nfe=1000, searchover=\"uncertainties\", epsilons=[0.1] * len(model.outcomes)\n",
    "    )"
   ]
  },
  {
   "cell_type": "code",
   "execution_count": 12,
   "id": "f7e94c3d",
   "metadata": {},
   "outputs": [
    {
     "ename": "NameError",
     "evalue": "name 'plt' is not defined",
     "output_type": "error",
     "traceback": [
      "\u001b[0;31m---------------------------------------------------------------------------\u001b[0m",
      "\u001b[0;31mNameError\u001b[0m                                 Traceback (most recent call last)",
      "\u001b[0;32m/tmp/ipykernel_77636/1845709466.py\u001b[0m in \u001b[0;36m<module>\u001b[0;34m\u001b[0m\n\u001b[1;32m     14\u001b[0m \u001b[0mparaxes\u001b[0m\u001b[0;34m.\u001b[0m\u001b[0mplot\u001b[0m\u001b[0;34m(\u001b[0m\u001b[0mdata\u001b[0m\u001b[0;34m)\u001b[0m\u001b[0;34m\u001b[0m\u001b[0;34m\u001b[0m\u001b[0m\n\u001b[1;32m     15\u001b[0m \u001b[0mparaxes\u001b[0m\u001b[0;34m.\u001b[0m\u001b[0minvert_axis\u001b[0m\u001b[0;34m(\u001b[0m\u001b[0;34m\"max_P\"\u001b[0m\u001b[0;34m)\u001b[0m\u001b[0;34m\u001b[0m\u001b[0;34m\u001b[0m\u001b[0m\n\u001b[0;32m---> 16\u001b[0;31m \u001b[0mplt\u001b[0m\u001b[0;34m.\u001b[0m\u001b[0mshow\u001b[0m\u001b[0;34m(\u001b[0m\u001b[0;34m)\u001b[0m\u001b[0;34m\u001b[0m\u001b[0;34m\u001b[0m\u001b[0m\n\u001b[0m",
      "\u001b[0;31mNameError\u001b[0m: name 'plt' is not defined"
     ]
    },
    {
     "data": {
      "image/png": "[encoded data removed]",
      "text/plain": [
       "<Figure size 432x288 with 3 Axes>"
      ]
     },
     "metadata": {},
     "output_type": "display_data"
    }
   ],
   "source": [
    "from ema_workbench.analysis import parcoords\n",
    "\n",
    "data = results.loc[:, [o.name for o in model.outcomes]]\n",
    "\n",
    "# get the minimum and maximum values as present in the dataframe\n",
    "limits = parcoords.get_limits(data)\n",
    "\n",
    "# we know that the lowest possible value for all objectives is 0\n",
    "limits.loc[0, [\"utility\", \"inertia\", \"reliability\", \"max_P\"]] = 0\n",
    "# inertia and reliability are defined on unit interval, so their theoretical maximum is 1\n",
    "limits.loc[1, [\"inertia\", \"reliability\"]] = 1\n",
    "\n",
    "paraxes = parcoords.ParallelAxes(limits)\n",
    "paraxes.plot(data)\n",
    "paraxes.invert_axis(\"max_P\")\n",
    "plt.show()"
   ]
  },
  {
   "cell_type": "code",
   "execution_count": null,
   "id": "a85ccd27",
   "metadata": {},
   "outputs": [],
   "source": []
  }
 ],
 "metadata": {
  "kernelspec": {
   "display_name": "Python 3 (ipykernel)",
   "language": "python",
   "name": "python3"
  },
  "language_info": {
   "codemirror_mode": {
    "name": "ipython",
    "version": 3
   },
   "file_extension": ".py",
   "mimetype": "text/x-python",
   "name": "python",
   "nbconvert_exporter": "python",
   "pygments_lexer": "ipython3",
   "version": "3.10.12"
  }
 },
 "nbformat": 4,
 "nbformat_minor": 5
}
